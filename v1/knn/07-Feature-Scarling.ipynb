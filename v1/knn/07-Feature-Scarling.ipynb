{
 "cells": [
  {
   "cell_type": "markdown",
   "metadata": {},
   "source": [
    "# 数据归一化处理"
   ]
  },
  {
   "cell_type": "code",
   "execution_count": 1,
   "metadata": {
    "collapsed": true
   },
   "outputs": [],
   "source": [
    "import numpy as np\n",
    "import matplotlib.pyplot as plt"
   ]
  },
  {
   "cell_type": "markdown",
   "metadata": {},
   "source": [
    "## 最值归一化 Normalization"
   ]
  },
  {
   "cell_type": "code",
   "execution_count": 2,
   "metadata": {
    "collapsed": true
   },
   "outputs": [],
   "source": [
    "x = np.random.randint(0,100, size  = 100)"
   ]
  },
  {
   "cell_type": "code",
   "execution_count": 3,
   "metadata": {},
   "outputs": [
    {
     "data": {
      "text/plain": [
       "array([11, 97, 85, 38, 94, 21, 93, 34, 66, 19, 74, 51,  5, 68, 89, 30, 97,\n",
       "       86, 42, 99, 22, 44, 83, 69, 85, 44, 76, 18, 37, 33,  9, 87, 29, 36,\n",
       "       12, 51, 93, 82, 78, 10, 54, 35, 13, 63, 44,  0, 42, 20, 98, 73,  1,\n",
       "       94, 43, 69, 80, 46, 61, 64,  2, 37, 44, 13, 80, 31, 60,  8, 16, 58,\n",
       "       60, 68, 33, 77, 45, 62, 82, 32, 35, 24, 19, 54, 31, 74, 31, 13, 72,\n",
       "       53, 97, 41, 98, 76, 68, 10, 40, 23, 38,  2, 90, 14, 70,  7])"
      ]
     },
     "execution_count": 3,
     "metadata": {},
     "output_type": "execute_result"
    }
   ],
   "source": [
    "x"
   ]
  },
  {
   "cell_type": "code",
   "execution_count": 4,
   "metadata": {},
   "outputs": [
    {
     "data": {
      "text/plain": [
       "array([ 0.11111111,  0.97979798,  0.85858586,  0.38383838,  0.94949495,\n",
       "        0.21212121,  0.93939394,  0.34343434,  0.66666667,  0.19191919,\n",
       "        0.74747475,  0.51515152,  0.05050505,  0.68686869,  0.8989899 ,\n",
       "        0.3030303 ,  0.97979798,  0.86868687,  0.42424242,  1.        ,\n",
       "        0.22222222,  0.44444444,  0.83838384,  0.6969697 ,  0.85858586,\n",
       "        0.44444444,  0.76767677,  0.18181818,  0.37373737,  0.33333333,\n",
       "        0.09090909,  0.87878788,  0.29292929,  0.36363636,  0.12121212,\n",
       "        0.51515152,  0.93939394,  0.82828283,  0.78787879,  0.1010101 ,\n",
       "        0.54545455,  0.35353535,  0.13131313,  0.63636364,  0.44444444,\n",
       "        0.        ,  0.42424242,  0.2020202 ,  0.98989899,  0.73737374,\n",
       "        0.01010101,  0.94949495,  0.43434343,  0.6969697 ,  0.80808081,\n",
       "        0.46464646,  0.61616162,  0.64646465,  0.02020202,  0.37373737,\n",
       "        0.44444444,  0.13131313,  0.80808081,  0.31313131,  0.60606061,\n",
       "        0.08080808,  0.16161616,  0.58585859,  0.60606061,  0.68686869,\n",
       "        0.33333333,  0.77777778,  0.45454545,  0.62626263,  0.82828283,\n",
       "        0.32323232,  0.35353535,  0.24242424,  0.19191919,  0.54545455,\n",
       "        0.31313131,  0.74747475,  0.31313131,  0.13131313,  0.72727273,\n",
       "        0.53535354,  0.97979798,  0.41414141,  0.98989899,  0.76767677,\n",
       "        0.68686869,  0.1010101 ,  0.4040404 ,  0.23232323,  0.38383838,\n",
       "        0.02020202,  0.90909091,  0.14141414,  0.70707071,  0.07070707])"
      ]
     },
     "execution_count": 4,
     "metadata": {},
     "output_type": "execute_result"
    }
   ],
   "source": [
    "(x - np.min(x))/(np.max(x) - np.min(x))"
   ]
  },
  {
   "cell_type": "code",
   "execution_count": 5,
   "metadata": {
    "collapsed": true
   },
   "outputs": [],
   "source": [
    "X = np.random.randint(0,100,(50,2))"
   ]
  },
  {
   "cell_type": "code",
   "execution_count": 7,
   "metadata": {},
   "outputs": [
    {
     "data": {
      "text/plain": [
       "array([[11,  8],\n",
       "       [25, 56],\n",
       "       [21,  7],\n",
       "       [30, 39],\n",
       "       [40, 28],\n",
       "       [44, 95],\n",
       "       [80, 14],\n",
       "       [57, 66],\n",
       "       [27, 59],\n",
       "       [98, 55]])"
      ]
     },
     "execution_count": 7,
     "metadata": {},
     "output_type": "execute_result"
    }
   ],
   "source": [
    "X[:10,:]"
   ]
  },
  {
   "cell_type": "code",
   "execution_count": 8,
   "metadata": {
    "collapsed": true
   },
   "outputs": [],
   "source": [
    "X = np.array(X ,dtype = float)"
   ]
  },
  {
   "cell_type": "code",
   "execution_count": 9,
   "metadata": {},
   "outputs": [
    {
     "data": {
      "text/plain": [
       "array([[ 11.,   8.],\n",
       "       [ 25.,  56.],\n",
       "       [ 21.,   7.],\n",
       "       [ 30.,  39.],\n",
       "       [ 40.,  28.],\n",
       "       [ 44.,  95.],\n",
       "       [ 80.,  14.],\n",
       "       [ 57.,  66.],\n",
       "       [ 27.,  59.],\n",
       "       [ 98.,  55.],\n",
       "       [ 23.,  38.],\n",
       "       [ 50.,  58.],\n",
       "       [ 37.,  99.],\n",
       "       [ 88.,  83.],\n",
       "       [ 88.,  40.],\n",
       "       [ 49.,  69.],\n",
       "       [ 22.,  78.],\n",
       "       [ 18.,  57.],\n",
       "       [ 20.,  79.],\n",
       "       [  4.,  89.],\n",
       "       [ 26.,  42.],\n",
       "       [ 48.,  66.],\n",
       "       [ 69.,  96.],\n",
       "       [ 24.,  21.],\n",
       "       [ 54.,  46.],\n",
       "       [ 24.,  89.],\n",
       "       [ 79.,  97.],\n",
       "       [ 90.,  87.],\n",
       "       [  7.,  76.],\n",
       "       [ 12.,   8.],\n",
       "       [ 95.,  55.],\n",
       "       [ 42.,  18.],\n",
       "       [ 50.,  65.],\n",
       "       [ 56.,  70.],\n",
       "       [ 48.,  80.],\n",
       "       [ 51.,  23.],\n",
       "       [ 47.,  18.],\n",
       "       [  3.,  97.],\n",
       "       [ 11.,  32.],\n",
       "       [ 29.,   0.],\n",
       "       [ 23.,   9.],\n",
       "       [ 59.,  13.],\n",
       "       [ 75.,  27.],\n",
       "       [  3.,  57.],\n",
       "       [ 24.,  50.],\n",
       "       [ 20.,  34.],\n",
       "       [ 56.,  14.],\n",
       "       [ 94.,   9.],\n",
       "       [ 82.,  58.],\n",
       "       [  3.,  16.]])"
      ]
     },
     "execution_count": 9,
     "metadata": {},
     "output_type": "execute_result"
    }
   ],
   "source": [
    "X"
   ]
  },
  {
   "cell_type": "code",
   "execution_count": 12,
   "metadata": {},
   "outputs": [],
   "source": [
    "X[:,0] = (X[:,0] - np.min(X[:,0])) / (np.max(X[:,0]) - np.min(X[:,0]))"
   ]
  },
  {
   "cell_type": "code",
   "execution_count": 13,
   "metadata": {
    "collapsed": true
   },
   "outputs": [],
   "source": [
    "X[:,1] = (X[:,1] - np.min(X[:,1])) / (np.max(X[:,1]) - np.min(X[:,1]))"
   ]
  },
  {
   "cell_type": "code",
   "execution_count": 14,
   "metadata": {},
   "outputs": [
    {
     "data": {
      "text/plain": [
       "array([[ 0.08421053,  0.08080808],\n",
       "       [ 0.23157895,  0.56565657],\n",
       "       [ 0.18947368,  0.07070707],\n",
       "       [ 0.28421053,  0.39393939],\n",
       "       [ 0.38947368,  0.28282828],\n",
       "       [ 0.43157895,  0.95959596],\n",
       "       [ 0.81052632,  0.14141414],\n",
       "       [ 0.56842105,  0.66666667],\n",
       "       [ 0.25263158,  0.5959596 ],\n",
       "       [ 1.        ,  0.55555556]])"
      ]
     },
     "execution_count": 14,
     "metadata": {},
     "output_type": "execute_result"
    }
   ],
   "source": [
    "X[:10,:]"
   ]
  },
  {
   "cell_type": "code",
   "execution_count": 16,
   "metadata": {},
   "outputs": [
    {
     "data": {
      "image/png": "[encoded data removed]",
      "text/plain": [
       "<matplotlib.figure.Figure at 0x107e36748>"
      ]
     },
     "metadata": {},
     "output_type": "display_data"
    }
   ],
   "source": [
    "plt.scatter(X[:,0], X[:,1])\n",
    "plt.show()"
   ]
  },
  {
   "cell_type": "code",
   "execution_count": 18,
   "metadata": {},
   "outputs": [
    {
     "data": {
      "text/plain": [
       "0.41810526315789476"
      ]
     },
     "execution_count": 18,
     "metadata": {},
     "output_type": "execute_result"
    }
   ],
   "source": [
    "np.mean(X[:,0])"
   ]
  },
  {
   "cell_type": "code",
   "execution_count": 19,
   "metadata": {},
   "outputs": [
    {
     "data": {
      "text/plain": [
       "0.29035876175227743"
      ]
     },
     "execution_count": 19,
     "metadata": {},
     "output_type": "execute_result"
    }
   ],
   "source": [
    "np.std(X[:,0])"
   ]
  },
  {
   "cell_type": "code",
   "execution_count": 20,
   "metadata": {},
   "outputs": [
    {
     "data": {
      "text/plain": [
       "0.50303030303030305"
      ]
     },
     "execution_count": 20,
     "metadata": {},
     "output_type": "execute_result"
    }
   ],
   "source": [
    "np.mean(X[:,1])"
   ]
  },
  {
   "cell_type": "code",
   "execution_count": 21,
   "metadata": {},
   "outputs": [
    {
     "data": {
      "text/plain": [
       "0.29814924132905535"
      ]
     },
     "execution_count": 21,
     "metadata": {},
     "output_type": "execute_result"
    }
   ],
   "source": [
    "np.std(X[:,1])"
   ]
  },
  {
   "cell_type": "markdown",
   "metadata": {},
   "source": [
    "### 均值方差归一化 Standardization"
   ]
  },
  {
   "cell_type": "code",
   "execution_count": 22,
   "metadata": {
    "collapsed": true
   },
   "outputs": [],
   "source": [
    "X2 = np.random.randint(0,100,(50,2))"
   ]
  },
  {
   "cell_type": "code",
   "execution_count": 23,
   "metadata": {
    "collapsed": true
   },
   "outputs": [],
   "source": [
    "X2 = np.array(X2,dtype = float)"
   ]
  },
  {
   "cell_type": "code",
   "execution_count": 24,
   "metadata": {
    "collapsed": true
   },
   "outputs": [],
   "source": [
    "X2[:,0] = (X2[:,0] - np.mean(X2[:,0])) / np.std(X2[:,0])"
   ]
  },
  {
   "cell_type": "code",
   "execution_count": 25,
   "metadata": {
    "collapsed": true
   },
   "outputs": [],
   "source": [
    "X2[:,1] = (X2[:,1] - np.mean(X2[:,1])) / np.std(X2[:,1])"
   ]
  },
  {
   "cell_type": "code",
   "execution_count": 26,
   "metadata": {},
   "outputs": [
    {
     "data": {
      "image/png": "[encoded data removed]",
      "text/plain": [
       "<matplotlib.figure.Figure at 0x1074d8278>"
      ]
     },
     "metadata": {},
     "output_type": "display_data"
    }
   ],
   "source": [
    "plt.scatter(X2[:,0], X2[:,1])\n",
    "plt.show()"
   ]
  },
  {
   "cell_type": "code",
   "execution_count": 27,
   "metadata": {},
   "outputs": [
    {
     "data": {
      "text/plain": [
       "6.7723604502134547e-17"
      ]
     },
     "execution_count": 27,
     "metadata": {},
     "output_type": "execute_result"
    }
   ],
   "source": [
    "np.mean(X2[:,0])"
   ]
  },
  {
   "cell_type": "code",
   "execution_count": 28,
   "metadata": {},
   "outputs": [
    {
     "data": {
      "text/plain": [
       "1.0"
      ]
     },
     "execution_count": 28,
     "metadata": {},
     "output_type": "execute_result"
    }
   ],
   "source": [
    "np.std(X2[:,0])"
   ]
  },
  {
   "cell_type": "code",
   "execution_count": 29,
   "metadata": {},
   "outputs": [
    {
     "data": {
      "text/plain": [
       "-5.7176485768195563e-17"
      ]
     },
     "execution_count": 29,
     "metadata": {},
     "output_type": "execute_result"
    }
   ],
   "source": [
    "np.mean(X2[:,1])"
   ]
  },
  {
   "cell_type": "code",
   "execution_count": 30,
   "metadata": {},
   "outputs": [
    {
     "data": {
      "text/plain": [
       "0.99999999999999978"
      ]
     },
     "execution_count": 30,
     "metadata": {},
     "output_type": "execute_result"
    }
   ],
   "source": [
    "np.std(X2[:,1])"
   ]
  },
  {
   "cell_type": "code",
   "execution_count": null,
   "metadata": {
    "collapsed": true
   },
   "outputs": [],
   "source": []
  }
 ],
 "metadata": {
  "kernelspec": {
   "display_name": "Python 3",
   "language": "python",
   "name": "python3"
  },
  "language_info": {
   "codemirror_mode": {
    "name": "ipython",
    "version": 3
   },
   "file_extension": ".py",
   "mimetype": "text/x-python",
   "name": "python",
   "nbconvert_exporter": "python",
   "pygments_lexer": "ipython3",
   "version": "3.6.3"
  }
 },
 "nbformat": 4,
 "nbformat_minor": 2
}
